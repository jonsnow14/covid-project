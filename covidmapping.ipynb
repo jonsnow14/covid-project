{
  "nbformat": 4,
  "nbformat_minor": 0,
  "metadata": {
    "colab": {
      "name": "Untitled8.ipynb",
      "provenance": [],
      "authorship_tag": "ABX9TyPMKQN8UTcKWSte1xnOcLBe",
      "include_colab_link": true
    },
    "kernelspec": {
      "name": "python3",
      "display_name": "Python 3"
    }
  },
  "cells": [
    {
      "cell_type": "markdown",
      "metadata": {
        "id": "view-in-github",
        "colab_type": "text"
      },
      "source": [
        "<a href=\"https://colab.research.google.com/github/jonsnow14/jhu-ds-specialisation/blob/master/covidmapping.ipynb\" target=\"_parent\"><img src=\"https://colab.research.google.com/assets/colab-badge.svg\" alt=\"Open In Colab\"/></a>"
      ]
    },
    {
      "cell_type": "code",
      "metadata": {
        "id": "--dZf2QwImyC",
        "colab_type": "code",
        "colab": {}
      },
      "source": [
        "!pip install geopandas\n",
        "!pip install geopy"
      ],
      "execution_count": 0,
      "outputs": []
    },
    {
      "cell_type": "code",
      "metadata": {
        "id": "7Gw5HzyNJIvD",
        "colab_type": "code",
        "colab": {}
      },
      "source": [
        "import pandas as pd\n",
        "import geopandas as gpd\n",
        "import geopy\n",
        "from geopy.geocoders import Nominatim\n",
        "from geopy.extra.rate_limiter import RateLimiter\n",
        "import matplotlib.pyplot as plt\n",
        "import folium\n",
        "from folium.plugins import FastMarkerCluster"
      ],
      "execution_count": 0,
      "outputs": []
    },
    {
      "cell_type": "code",
      "metadata": {
        "id": "b1x5GDuDLkY2",
        "colab_type": "code",
        "colab": {}
      },
      "source": [
        "locator = Nominatim(user_agent=\"myGeocoder\")\n",
        "location = locator.geocode(\"Colaba , Mumbai, India\")"
      ],
      "execution_count": 0,
      "outputs": []
    },
    {
      "cell_type": "code",
      "metadata": {
        "id": "tMiIv3gXLyVf",
        "colab_type": "code",
        "colab": {
          "base_uri": "https://localhost:8080/",
          "height": 51
        },
        "outputId": "61edd0a5-1645-47b9-8dde-72b0ff8860bd"
      },
      "source": [
        "print(location.address)\n",
        "print(\"Latitude = {}, Longitude = {}\".format(location.latitude, location.longitude))"
      ],
      "execution_count": 11,
      "outputs": [
        {
          "output_type": "stream",
          "text": [
            "Colaba, Zone 1, Mumbai, Mumbai City, Maharashtra, 400005, India\n",
            "Latitude = 18.915091, Longitude = 72.8259691\n"
          ],
          "name": "stdout"
        }
      ]
    },
    {
      "cell_type": "code",
      "metadata": {
        "id": "TCmQPx2VL58J",
        "colab_type": "code",
        "colab": {}
      },
      "source": [
        "df = pd.read_csv(\"coronadata.csv\")\n",
        "df.head()"
      ],
      "execution_count": 0,
      "outputs": []
    },
    {
      "cell_type": "code",
      "metadata": {
        "id": "uRjeCw5CNyYC",
        "colab_type": "code",
        "colab": {}
      },
      "source": [
        "df['ADDRESS'] = df['Address1'].astype(str) + ',' + \\\n",
        "                df['Address3'] + ',' + \\\n",
        "                df['Address4'] + ',' + \\\n",
        "                df['Address5'] + ',' + ' Sweden'   \n",
        "\n",
        "df.head()"
      ],
      "execution_count": 0,
      "outputs": []
    },
    {
      "cell_type": "code",
      "metadata": {
        "id": "t6_Vt98bQdVQ",
        "colab_type": "code",
        "colab": {}
      },
      "source": [
        "from geopy.extra.rate_limiter import RateLimiter\n",
        "geocode = RateLimiter(locator.geocode, min_delay_seconds=1)\n",
        "df['location'] = df['ADDRESS'].apply(geocode)\n",
        "df['point'] = df['location'].apply(lambda loc: tuple(loc.point) if loc else None)"
      ],
      "execution_count": 0,
      "outputs": []
    },
    {
      "cell_type": "code",
      "metadata": {
        "id": "2YuYn4NTQhBI",
        "colab_type": "code",
        "colab": {}
      },
      "source": [
        "df['point'][0][0]"
      ],
      "execution_count": 0,
      "outputs": []
    },
    {
      "cell_type": "code",
      "metadata": {
        "id": "AaVzUeIQQlF8",
        "colab_type": "code",
        "colab": {}
      },
      "source": [
        "# split point column into latitude, longitude and altitude columns\n",
        "df[['latitude', 'longitude', 'altitude']] = pd.DataFrame(df['point'].tolist(), index=df.index)\n",
        "df.head()"
      ],
      "execution_count": 0,
      "outputs": []
    },
    {
      "cell_type": "code",
      "metadata": {
        "id": "b6OFOtpYQku5",
        "colab_type": "code",
        "colab": {}
      },
      "source": [
        "df.columns"
      ],
      "execution_count": 0,
      "outputs": []
    },
    {
      "cell_type": "code",
      "metadata": {
        "id": "fwHcTQmvQu3b",
        "colab_type": "code",
        "colab": {}
      },
      "source": [
        "df = df.drop(['Address1', 'Address3', 'Address4', 'Address5','Telefon', 'ADDRESS', 'location', 'point'], axis=1)"
      ],
      "execution_count": 0,
      "outputs": []
    },
    {
      "cell_type": "code",
      "metadata": {
        "id": "gMuJNvI6Qz8x",
        "colab_type": "code",
        "colab": {}
      },
      "source": [
        "df.head()"
      ],
      "execution_count": 0,
      "outputs": []
    },
    {
      "cell_type": "code",
      "metadata": {
        "id": "UQ7_UmLjQ4BD",
        "colab_type": "code",
        "colab": {}
      },
      "source": [
        "df.latitude.isnull().sum()"
      ],
      "execution_count": 0,
      "outputs": []
    },
    {
      "cell_type": "code",
      "metadata": {
        "id": "pS06oInjQ-_r",
        "colab_type": "code",
        "colab": {}
      },
      "source": [
        "df = df[pd.notnull(df[\"latitude\"])]"
      ],
      "execution_count": 0,
      "outputs": []
    },
    {
      "cell_type": "code",
      "metadata": {
        "id": "Gz0AgL4wRCSU",
        "colab_type": "code",
        "colab": {}
      },
      "source": [
        "map1 = folium.Map(\n",
        "    location=[59.338315,18.089960],\n",
        "    tiles='cartodbpositron',\n",
        "    zoom_start=12,"
      ],
      "execution_count": 0,
      "outputs": []
    },
    {
      "cell_type": "code",
      "metadata": {
        "id": "i35R9BexRGI7",
        "colab_type": "code",
        "colab": {}
      },
      "source": [
        "df.apply(lambda row:folium.CircleMarker(location=[row[\"latitude\"], row[\"longitude\"]]).add_to(map1), axis=1)\n",
        "map1"
      ],
      "execution_count": 0,
      "outputs": []
    },
    {
      "cell_type": "code",
      "metadata": {
        "id": "bNxJZF6KRKcD",
        "colab_type": "code",
        "colab": {}
      },
      "source": [
        "map1.save(\"map1.html\")"
      ],
      "execution_count": 0,
      "outputs": []
    },
    {
      "cell_type": "code",
      "metadata": {
        "id": "lUokB2HORNch",
        "colab_type": "code",
        "colab": {}
      },
      "source": [
        "\n",
        "folium_map = folium.Map(location=[59.338315,18.089960],\n",
        "                        zoom_start=12,\n",
        "                        tiles='CartoDB dark_matter')\n",
        "\n",
        "\n",
        "FastMarkerCluster(data=list(zip(df['latitude'].values, df['longitude'].values))).add_to(folium_map)\n",
        "folium.LayerControl().add_to(folium_map)\n",
        "folium_map"
      ],
      "execution_count": 0,
      "outputs": []
    },
    {
      "cell_type": "code",
      "metadata": {
        "id": "Rg_RtCegRRCs",
        "colab_type": "code",
        "colab": {}
      },
      "source": [
        "folium_map.save(\"map2.html\")\n",
        "\n"
      ],
      "execution_count": 0,
      "outputs": []
    }
  ]
}